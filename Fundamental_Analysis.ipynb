{
 "cells": [
  {
   "cell_type": "markdown",
   "id": "active-projection",
   "metadata": {},
   "source": [
    "<h2>Fundamental Analysis for Growth Stocks </h2>\n",
    "\n",
    "\n",
    "Using the screener provided by Zacks.com, we segment \"growth\" companies by setting dividend to 0% and optionable to Yes to avoid OTC stocks. We also remove financial companies. Our target variable is Relative Price Change which compares the stock returns to the year to date returns of the S&P 500. Several features will be used for building the initial model. Later we also scrape insider and insitutional transactions from Yahoo Finance. "
   ]
  },
  {
   "cell_type": "code",
   "execution_count": 131,
   "id": "disturbed-playing",
   "metadata": {},
   "outputs": [],
   "source": [
    "import numpy as np\n",
    "import pandas as pd\n",
    "from sklearn.model_selection import train_test_split\n",
    "from sklearn.model_selection import cross_val_score\n",
    "from sklearn.preprocessing import StandardScaler,OneHotEncoder\n",
    "from sklearn.ensemble import IsolationForest\n",
    "import matplotlib.pyplot as plt\n",
    "%matplotlib inline"
   ]
  },
  {
   "cell_type": "markdown",
   "id": "golden-sierra",
   "metadata": {},
   "source": [
    "Read in created CSV file showing screener results from Zacks."
   ]
  },
  {
   "cell_type": "code",
   "execution_count": 132,
   "id": "decreased-testament",
   "metadata": {},
   "outputs": [],
   "source": [
    "df = pd.read_csv('zacks3.csv')"
   ]
  },
  {
   "cell_type": "markdown",
   "id": "damaged-canadian",
   "metadata": {},
   "source": [
    "View the different features along with the target in their respective column orders."
   ]
  },
  {
   "cell_type": "code",
   "execution_count": 133,
   "id": "tracked-pendant",
   "metadata": {
    "scrolled": true
   },
   "outputs": [
    {
     "data": {
      "text/plain": [
       "{'Company Name': 0,\n",
       " 'Ticker': 1,\n",
       " 'Optionable': 2,\n",
       " 'Div. Yield %': 3,\n",
       " 'Sector': 4,\n",
       " 'Last Close': 5,\n",
       " 'Relative Price Change': 6,\n",
       " '5 Yr. Hist. EPS Growth': 7,\n",
       " '% Change EPS (F(-1)/F(-2))': 8,\n",
       " 'Sales Growth F(0)/F(-1)': 9,\n",
       " '5 Yr Historical Sales Growth': 10,\n",
       " 'ROA (5 Yr Avg)': 11,\n",
       " 'Current ROA (TTM)': 12,\n",
       " 'ROI (5 Yr Avg)': 13,\n",
       " 'Inventory Turnover': 14,\n",
       " 'Asset Utilization': 15,\n",
       " 'Net Margin %': 16}"
      ]
     },
     "execution_count": 133,
     "metadata": {},
     "output_type": "execute_result"
    }
   ],
   "source": [
    "features = {name: i for i,name in enumerate(df.columns)}\n",
    "features"
   ]
  },
  {
   "cell_type": "markdown",
   "id": "generic-advance",
   "metadata": {},
   "source": [
    "Only keep certain columns for now for preliminary analysis (variable conversion, outlier detection, visualization)."
   ]
  },
  {
   "cell_type": "code",
   "execution_count": 134,
   "id": "useful-captain",
   "metadata": {},
   "outputs": [
    {
     "data": {
      "text/html": [
       "<div>\n",
       "<style scoped>\n",
       "    .dataframe tbody tr th:only-of-type {\n",
       "        vertical-align: middle;\n",
       "    }\n",
       "\n",
       "    .dataframe tbody tr th {\n",
       "        vertical-align: top;\n",
       "    }\n",
       "\n",
       "    .dataframe thead th {\n",
       "        text-align: right;\n",
       "    }\n",
       "</style>\n",
       "<table border=\"1\" class=\"dataframe\">\n",
       "  <thead>\n",
       "    <tr style=\"text-align: right;\">\n",
       "      <th></th>\n",
       "      <th>Ticker</th>\n",
       "      <th>Sector</th>\n",
       "      <th>5 Yr. Hist. EPS Growth</th>\n",
       "      <th>5 Yr Historical Sales Growth</th>\n",
       "      <th>ROA (5 Yr Avg)</th>\n",
       "      <th>ROI (5 Yr Avg)</th>\n",
       "      <th>Relative Price Change</th>\n",
       "    </tr>\n",
       "  </thead>\n",
       "  <tbody>\n",
       "    <tr>\n",
       "      <th>0</th>\n",
       "      <td>FLWS</td>\n",
       "      <td>Retail-Wholesale</td>\n",
       "      <td>24.02</td>\n",
       "      <td>6.58</td>\n",
       "      <td>6.06650</td>\n",
       "      <td>9.36760</td>\n",
       "      <td>0.93</td>\n",
       "    </tr>\n",
       "    <tr>\n",
       "      <th>1</th>\n",
       "      <td>AIR</td>\n",
       "      <td>Aerospace</td>\n",
       "      <td>10.55</td>\n",
       "      <td>3.34</td>\n",
       "      <td>3.92079</td>\n",
       "      <td>5.63920</td>\n",
       "      <td>6.78</td>\n",
       "    </tr>\n",
       "    <tr>\n",
       "      <th>2</th>\n",
       "      <td>ABMD</td>\n",
       "      <td>Medical</td>\n",
       "      <td>45.56</td>\n",
       "      <td>22.88</td>\n",
       "      <td>14.39900</td>\n",
       "      <td>16.32299</td>\n",
       "      <td>-8.66</td>\n",
       "    </tr>\n",
       "    <tr>\n",
       "      <th>3</th>\n",
       "      <td>ACMR</td>\n",
       "      <td>Industrial Products</td>\n",
       "      <td>68.85</td>\n",
       "      <td>56.53</td>\n",
       "      <td>9.88389</td>\n",
       "      <td>16.90999</td>\n",
       "      <td>1.61</td>\n",
       "    </tr>\n",
       "    <tr>\n",
       "      <th>4</th>\n",
       "      <td>ANIP</td>\n",
       "      <td>Medical</td>\n",
       "      <td>8.89</td>\n",
       "      <td>18.57</td>\n",
       "      <td>11.49100</td>\n",
       "      <td>14.08300</td>\n",
       "      <td>7.01</td>\n",
       "    </tr>\n",
       "  </tbody>\n",
       "</table>\n",
       "</div>"
      ],
      "text/plain": [
       "  Ticker               Sector  5 Yr. Hist. EPS Growth  \\\n",
       "0   FLWS     Retail-Wholesale                   24.02   \n",
       "1    AIR            Aerospace                   10.55   \n",
       "2   ABMD              Medical                   45.56   \n",
       "3   ACMR  Industrial Products                   68.85   \n",
       "4   ANIP              Medical                    8.89   \n",
       "\n",
       "   5 Yr Historical Sales Growth  ROA (5 Yr Avg)  ROI (5 Yr Avg)  \\\n",
       "0                          6.58         6.06650         9.36760   \n",
       "1                          3.34         3.92079         5.63920   \n",
       "2                         22.88        14.39900        16.32299   \n",
       "3                         56.53         9.88389        16.90999   \n",
       "4                         18.57        11.49100        14.08300   \n",
       "\n",
       "   Relative Price Change  \n",
       "0                   0.93  \n",
       "1                   6.78  \n",
       "2                  -8.66  \n",
       "3                   1.61  \n",
       "4                   7.01  "
      ]
     },
     "execution_count": 134,
     "metadata": {},
     "output_type": "execute_result"
    }
   ],
   "source": [
    "keep = df.columns[[1,4,7,10,11,13,6]]\n",
    "df2 = df[keep]\n",
    "df2.head()"
   ]
  },
  {
   "cell_type": "code",
   "execution_count": 210,
   "id": "trying-console",
   "metadata": {},
   "outputs": [
    {
     "data": {
      "text/plain": [
       "array(['Retail-Wholesale', 'Aerospace', 'Medical', 'Industrial Products',\n",
       "       'Computer and Technology', 'Consumer Staples', 'Auto-Tires-Trucks',\n",
       "       'Basic Materials', 'Construction', 'Transportation', 'Oils-Energy',\n",
       "       'Consumer Discretionary', 'Business Services', 'Utilities',\n",
       "       'Conglomerates'], dtype=object)"
      ]
     },
     "execution_count": 210,
     "metadata": {},
     "output_type": "execute_result"
    }
   ],
   "source": [
    "df2['Sector'].unique()"
   ]
  },
  {
   "cell_type": "markdown",
   "id": "social-hostel",
   "metadata": {},
   "source": [
    "Note all the variables are percentages except for sector which is categorical."
   ]
  },
  {
   "cell_type": "code",
   "execution_count": 135,
   "id": "mexican-visitor",
   "metadata": {
    "scrolled": true
   },
   "outputs": [
    {
     "data": {
      "text/plain": [
       "False"
      ]
     },
     "execution_count": 135,
     "metadata": {},
     "output_type": "execute_result"
    }
   ],
   "source": [
    "# Check if any missing values are present in the dataframe.\n",
    "df2.isnull().values.any()"
   ]
  },
  {
   "cell_type": "markdown",
   "id": "common-gazette",
   "metadata": {},
   "source": [
    "\"The relative price is calculated by comparing the calendar year-to-date price change of each stock to the price change of the S&P 500 over the year-to-date time period. A value of 1.0 indicates a company's stock price performance was equal to that of the S&P 500.A negative value indicates that the stock underperformed the S&P.A positive value indicates that the stock outperformed the S&P.\"\n",
    "\n",
    "Let's see the relative price change by sector. The red vertical line represents performance equal to that of the S&P."
   ]
  },
  {
   "cell_type": "code",
   "execution_count": 136,
   "id": "adjusted-separate",
   "metadata": {},
   "outputs": [
    {
     "data": {
      "image/png": "[encoded data removed]",
      "text/plain": [
       "<Figure size 720x720 with 1 Axes>"
      ]
     },
     "metadata": {
      "needs_background": "light"
     },
     "output_type": "display_data"
    }
   ],
   "source": [
    "df2.groupby('Sector')['Relative Price Change'].median().plot.barh(figsize=(10,10),)\n",
    "plt.axvline(x=1, color='r', linestyle='-')\n",
    "plt.title('Relative Price Change by Sector')\n",
    "plt.show()\n"
   ]
  },
  {
   "cell_type": "markdown",
   "id": "mature-biography",
   "metadata": {},
   "source": [
    "As there are no missing values, we will separate out the numeric variables for now into a separate data frame to search for any outliers."
   ]
  },
  {
   "cell_type": "code",
   "execution_count": 137,
   "id": "absolute-ottawa",
   "metadata": {},
   "outputs": [],
   "source": [
    "df2_numeric = df2.select_dtypes(include='float64')"
   ]
  },
  {
   "cell_type": "code",
   "execution_count": 138,
   "id": "undefined-microwave",
   "metadata": {},
   "outputs": [
    {
     "data": {
      "text/html": [
       "<div>\n",
       "<style scoped>\n",
       "    .dataframe tbody tr th:only-of-type {\n",
       "        vertical-align: middle;\n",
       "    }\n",
       "\n",
       "    .dataframe tbody tr th {\n",
       "        vertical-align: top;\n",
       "    }\n",
       "\n",
       "    .dataframe thead th {\n",
       "        text-align: right;\n",
       "    }\n",
       "</style>\n",
       "<table border=\"1\" class=\"dataframe\">\n",
       "  <thead>\n",
       "    <tr style=\"text-align: right;\">\n",
       "      <th></th>\n",
       "      <th>5 Yr. Hist. EPS Growth</th>\n",
       "      <th>5 Yr Historical Sales Growth</th>\n",
       "      <th>ROA (5 Yr Avg)</th>\n",
       "      <th>ROI (5 Yr Avg)</th>\n",
       "      <th>Relative Price Change</th>\n",
       "    </tr>\n",
       "  </thead>\n",
       "  <tbody>\n",
       "    <tr>\n",
       "      <th>0</th>\n",
       "      <td>24.02</td>\n",
       "      <td>6.58</td>\n",
       "      <td>6.06650</td>\n",
       "      <td>9.36760</td>\n",
       "      <td>0.93</td>\n",
       "    </tr>\n",
       "    <tr>\n",
       "      <th>1</th>\n",
       "      <td>10.55</td>\n",
       "      <td>3.34</td>\n",
       "      <td>3.92079</td>\n",
       "      <td>5.63920</td>\n",
       "      <td>6.78</td>\n",
       "    </tr>\n",
       "    <tr>\n",
       "      <th>2</th>\n",
       "      <td>45.56</td>\n",
       "      <td>22.88</td>\n",
       "      <td>14.39900</td>\n",
       "      <td>16.32299</td>\n",
       "      <td>-8.66</td>\n",
       "    </tr>\n",
       "    <tr>\n",
       "      <th>3</th>\n",
       "      <td>68.85</td>\n",
       "      <td>56.53</td>\n",
       "      <td>9.88389</td>\n",
       "      <td>16.90999</td>\n",
       "      <td>1.61</td>\n",
       "    </tr>\n",
       "    <tr>\n",
       "      <th>4</th>\n",
       "      <td>8.89</td>\n",
       "      <td>18.57</td>\n",
       "      <td>11.49100</td>\n",
       "      <td>14.08300</td>\n",
       "      <td>7.01</td>\n",
       "    </tr>\n",
       "  </tbody>\n",
       "</table>\n",
       "</div>"
      ],
      "text/plain": [
       "   5 Yr. Hist. EPS Growth  5 Yr Historical Sales Growth  ROA (5 Yr Avg)  \\\n",
       "0                   24.02                          6.58         6.06650   \n",
       "1                   10.55                          3.34         3.92079   \n",
       "2                   45.56                         22.88        14.39900   \n",
       "3                   68.85                         56.53         9.88389   \n",
       "4                    8.89                         18.57        11.49100   \n",
       "\n",
       "   ROI (5 Yr Avg)  Relative Price Change  \n",
       "0         9.36760                   0.93  \n",
       "1         5.63920                   6.78  \n",
       "2        16.32299                  -8.66  \n",
       "3        16.90999                   1.61  \n",
       "4        14.08300                   7.01  "
      ]
     },
     "execution_count": 138,
     "metadata": {},
     "output_type": "execute_result"
    }
   ],
   "source": [
    "df2_numeric.head()"
   ]
  },
  {
   "cell_type": "code",
   "execution_count": 139,
   "id": "middle-suffering",
   "metadata": {
    "scrolled": false
   },
   "outputs": [
    {
     "data": {
      "image/png": "[encoded data removed]",
      "text/plain": [
       "<Figure size 1440x1080 with 6 Axes>"
      ]
     },
     "metadata": {
      "needs_background": "light"
     },
     "output_type": "display_data"
    }
   ],
   "source": [
    "df2_numeric.hist(bins=30, figsize=(20, 15))\n",
    "plt.show()"
   ]
  },
  {
   "cell_type": "markdown",
   "id": "final-diving",
   "metadata": {},
   "source": [
    "We will now employ an Isolation forest to remove any potential outliers from the data. An isolation forest recursively generates trees by selecting a feature and split value. Outliers will have shorter paths to reaching a leaf."
   ]
  },
  {
   "cell_type": "code",
   "execution_count": 140,
   "id": "twenty-finland",
   "metadata": {},
   "outputs": [],
   "source": [
    "iso_for = IsolationForest(contamination=0.05,random_state=42,n_estimators=200)\n",
    "out = iso_for.fit_predict(df2_numeric)"
   ]
  },
  {
   "cell_type": "code",
   "execution_count": 141,
   "id": "false-leeds",
   "metadata": {},
   "outputs": [
    {
     "name": "stderr",
     "output_type": "stream",
     "text": [
      "/opt/anaconda3/envs/personal_projects/lib/python3.8/site-packages/pandas/core/indexing.py:1597: SettingWithCopyWarning: \n",
      "A value is trying to be set on a copy of a slice from a DataFrame.\n",
      "Try using .loc[row_indexer,col_indexer] = value instead\n",
      "\n",
      "See the caveats in the documentation: https://pandas.pydata.org/pandas-docs/stable/user_guide/indexing.html#returning-a-view-versus-a-copy\n",
      "  self.obj[key] = value\n",
      "/opt/anaconda3/envs/personal_projects/lib/python3.8/site-packages/pandas/core/indexing.py:1676: SettingWithCopyWarning: \n",
      "A value is trying to be set on a copy of a slice from a DataFrame.\n",
      "Try using .loc[row_indexer,col_indexer] = value instead\n",
      "\n",
      "See the caveats in the documentation: https://pandas.pydata.org/pandas-docs/stable/user_guide/indexing.html#returning-a-view-versus-a-copy\n",
      "  self._setitem_single_column(ilocs[0], value, pi)\n"
     ]
    }
   ],
   "source": [
    "df2.loc[:,'iso'] = out"
   ]
  },
  {
   "cell_type": "code",
   "execution_count": 142,
   "id": "smaller-vegetation",
   "metadata": {},
   "outputs": [
    {
     "data": {
      "text/html": [
       "<div>\n",
       "<style scoped>\n",
       "    .dataframe tbody tr th:only-of-type {\n",
       "        vertical-align: middle;\n",
       "    }\n",
       "\n",
       "    .dataframe tbody tr th {\n",
       "        vertical-align: top;\n",
       "    }\n",
       "\n",
       "    .dataframe thead th {\n",
       "        text-align: right;\n",
       "    }\n",
       "</style>\n",
       "<table border=\"1\" class=\"dataframe\">\n",
       "  <thead>\n",
       "    <tr style=\"text-align: right;\">\n",
       "      <th></th>\n",
       "      <th>Ticker</th>\n",
       "      <th>Sector</th>\n",
       "      <th>5 Yr. Hist. EPS Growth</th>\n",
       "      <th>5 Yr Historical Sales Growth</th>\n",
       "      <th>ROA (5 Yr Avg)</th>\n",
       "      <th>ROI (5 Yr Avg)</th>\n",
       "      <th>Relative Price Change</th>\n",
       "      <th>iso</th>\n",
       "    </tr>\n",
       "  </thead>\n",
       "  <tbody>\n",
       "    <tr>\n",
       "      <th>0</th>\n",
       "      <td>FLWS</td>\n",
       "      <td>Retail-Wholesale</td>\n",
       "      <td>24.02</td>\n",
       "      <td>6.58</td>\n",
       "      <td>6.06650</td>\n",
       "      <td>9.36760</td>\n",
       "      <td>0.93</td>\n",
       "      <td>1</td>\n",
       "    </tr>\n",
       "    <tr>\n",
       "      <th>1</th>\n",
       "      <td>AIR</td>\n",
       "      <td>Aerospace</td>\n",
       "      <td>10.55</td>\n",
       "      <td>3.34</td>\n",
       "      <td>3.92079</td>\n",
       "      <td>5.63920</td>\n",
       "      <td>6.78</td>\n",
       "      <td>1</td>\n",
       "    </tr>\n",
       "    <tr>\n",
       "      <th>2</th>\n",
       "      <td>ABMD</td>\n",
       "      <td>Medical</td>\n",
       "      <td>45.56</td>\n",
       "      <td>22.88</td>\n",
       "      <td>14.39900</td>\n",
       "      <td>16.32299</td>\n",
       "      <td>-8.66</td>\n",
       "      <td>1</td>\n",
       "    </tr>\n",
       "    <tr>\n",
       "      <th>3</th>\n",
       "      <td>ACMR</td>\n",
       "      <td>Industrial Products</td>\n",
       "      <td>68.85</td>\n",
       "      <td>56.53</td>\n",
       "      <td>9.88389</td>\n",
       "      <td>16.90999</td>\n",
       "      <td>1.61</td>\n",
       "      <td>-1</td>\n",
       "    </tr>\n",
       "    <tr>\n",
       "      <th>4</th>\n",
       "      <td>ANIP</td>\n",
       "      <td>Medical</td>\n",
       "      <td>8.89</td>\n",
       "      <td>18.57</td>\n",
       "      <td>11.49100</td>\n",
       "      <td>14.08300</td>\n",
       "      <td>7.01</td>\n",
       "      <td>1</td>\n",
       "    </tr>\n",
       "  </tbody>\n",
       "</table>\n",
       "</div>"
      ],
      "text/plain": [
       "  Ticker               Sector  5 Yr. Hist. EPS Growth  \\\n",
       "0   FLWS     Retail-Wholesale                   24.02   \n",
       "1    AIR            Aerospace                   10.55   \n",
       "2   ABMD              Medical                   45.56   \n",
       "3   ACMR  Industrial Products                   68.85   \n",
       "4   ANIP              Medical                    8.89   \n",
       "\n",
       "   5 Yr Historical Sales Growth  ROA (5 Yr Avg)  ROI (5 Yr Avg)  \\\n",
       "0                          6.58         6.06650         9.36760   \n",
       "1                          3.34         3.92079         5.63920   \n",
       "2                         22.88        14.39900        16.32299   \n",
       "3                         56.53         9.88389        16.90999   \n",
       "4                         18.57        11.49100        14.08300   \n",
       "\n",
       "   Relative Price Change  iso  \n",
       "0                   0.93    1  \n",
       "1                   6.78    1  \n",
       "2                  -8.66    1  \n",
       "3                   1.61   -1  \n",
       "4                   7.01    1  "
      ]
     },
     "execution_count": 142,
     "metadata": {},
     "output_type": "execute_result"
    }
   ],
   "source": [
    "df2.head()"
   ]
  },
  {
   "cell_type": "markdown",
   "id": "particular-citizen",
   "metadata": {},
   "source": [
    "We remove companies with iso value of -1 indicating an outlier."
   ]
  },
  {
   "cell_type": "code",
   "execution_count": 143,
   "id": "painful-doctor",
   "metadata": {},
   "outputs": [],
   "source": [
    "outliers = df2.loc[df2['iso']==-1]\n",
    "df2_noOutliers = df2.loc[df2.index.difference(outliers.index), ]"
   ]
  },
  {
   "cell_type": "code",
   "execution_count": 144,
   "id": "secure-sodium",
   "metadata": {},
   "outputs": [
    {
     "data": {
      "text/html": [
       "<div>\n",
       "<style scoped>\n",
       "    .dataframe tbody tr th:only-of-type {\n",
       "        vertical-align: middle;\n",
       "    }\n",
       "\n",
       "    .dataframe tbody tr th {\n",
       "        vertical-align: top;\n",
       "    }\n",
       "\n",
       "    .dataframe thead th {\n",
       "        text-align: right;\n",
       "    }\n",
       "</style>\n",
       "<table border=\"1\" class=\"dataframe\">\n",
       "  <thead>\n",
       "    <tr style=\"text-align: right;\">\n",
       "      <th></th>\n",
       "      <th>Ticker</th>\n",
       "      <th>Sector</th>\n",
       "      <th>5 Yr. Hist. EPS Growth</th>\n",
       "      <th>5 Yr Historical Sales Growth</th>\n",
       "      <th>ROA (5 Yr Avg)</th>\n",
       "      <th>ROI (5 Yr Avg)</th>\n",
       "      <th>Relative Price Change</th>\n",
       "      <th>iso</th>\n",
       "    </tr>\n",
       "  </thead>\n",
       "  <tbody>\n",
       "    <tr>\n",
       "      <th>3</th>\n",
       "      <td>ACMR</td>\n",
       "      <td>Industrial Products</td>\n",
       "      <td>68.85</td>\n",
       "      <td>56.53</td>\n",
       "      <td>9.88389</td>\n",
       "      <td>16.90999</td>\n",
       "      <td>1.61</td>\n",
       "      <td>-1</td>\n",
       "    </tr>\n",
       "    <tr>\n",
       "      <th>18</th>\n",
       "      <td>ALGN</td>\n",
       "      <td>Medical</td>\n",
       "      <td>63.92</td>\n",
       "      <td>25.56</td>\n",
       "      <td>25.03899</td>\n",
       "      <td>38.16299</td>\n",
       "      <td>-5.56</td>\n",
       "      <td>-1</td>\n",
       "    </tr>\n",
       "    <tr>\n",
       "      <th>19</th>\n",
       "      <td>ATI</td>\n",
       "      <td>Basic Materials</td>\n",
       "      <td>758.28</td>\n",
       "      <td>3.79</td>\n",
       "      <td>1.11800</td>\n",
       "      <td>1.69700</td>\n",
       "      <td>23.41</td>\n",
       "      <td>-1</td>\n",
       "    </tr>\n",
       "    <tr>\n",
       "      <th>57</th>\n",
       "      <td>BNED</td>\n",
       "      <td>Consumer Discretionary</td>\n",
       "      <td>10.63</td>\n",
       "      <td>-2.29</td>\n",
       "      <td>-3.80030</td>\n",
       "      <td>-8.25431</td>\n",
       "      <td>63.42</td>\n",
       "      <td>-1</td>\n",
       "    </tr>\n",
       "    <tr>\n",
       "      <th>138</th>\n",
       "      <td>CORT</td>\n",
       "      <td>Medical</td>\n",
       "      <td>112.71</td>\n",
       "      <td>50.75</td>\n",
       "      <td>25.73399</td>\n",
       "      <td>32.15599</td>\n",
       "      <td>-15.01</td>\n",
       "      <td>-1</td>\n",
       "    </tr>\n",
       "    <tr>\n",
       "      <th>142</th>\n",
       "      <td>CROX</td>\n",
       "      <td>Consumer Discretionary</td>\n",
       "      <td>333.50</td>\n",
       "      <td>4.62</td>\n",
       "      <td>7.15990</td>\n",
       "      <td>13.46399</td>\n",
       "      <td>17.77</td>\n",
       "      <td>-1</td>\n",
       "    </tr>\n",
       "    <tr>\n",
       "      <th>184</th>\n",
       "      <td>EXEL</td>\n",
       "      <td>Medical</td>\n",
       "      <td>46.26</td>\n",
       "      <td>77.38</td>\n",
       "      <td>15.93000</td>\n",
       "      <td>24.40699</td>\n",
       "      <td>7.76</td>\n",
       "      <td>-1</td>\n",
       "    </tr>\n",
       "    <tr>\n",
       "      <th>185</th>\n",
       "      <td>EXPR</td>\n",
       "      <td>Retail-Wholesale</td>\n",
       "      <td>-55.29</td>\n",
       "      <td>-9.00</td>\n",
       "      <td>0.29025</td>\n",
       "      <td>-7.22320</td>\n",
       "      <td>322.08</td>\n",
       "      <td>-1</td>\n",
       "    </tr>\n",
       "    <tr>\n",
       "      <th>198</th>\n",
       "      <td>FORM</td>\n",
       "      <td>Computer and Technology</td>\n",
       "      <td>297.71</td>\n",
       "      <td>17.22</td>\n",
       "      <td>8.20300</td>\n",
       "      <td>9.94069</td>\n",
       "      <td>9.45</td>\n",
       "      <td>-1</td>\n",
       "    </tr>\n",
       "    <tr>\n",
       "      <th>207</th>\n",
       "      <td>GME</td>\n",
       "      <td>Retail-Wholesale</td>\n",
       "      <td>-33.31</td>\n",
       "      <td>-11.15</td>\n",
       "      <td>4.25939</td>\n",
       "      <td>5.07469</td>\n",
       "      <td>813.99</td>\n",
       "      <td>-1</td>\n",
       "    </tr>\n",
       "    <tr>\n",
       "      <th>217</th>\n",
       "      <td>GOL</td>\n",
       "      <td>Transportation</td>\n",
       "      <td>8.05</td>\n",
       "      <td>-4.82</td>\n",
       "      <td>-0.72062</td>\n",
       "      <td>-40.27800</td>\n",
       "      <td>-24.87</td>\n",
       "      <td>-1</td>\n",
       "    </tr>\n",
       "    <tr>\n",
       "      <th>218</th>\n",
       "      <td>GOGL</td>\n",
       "      <td>Transportation</td>\n",
       "      <td>-68.72</td>\n",
       "      <td>30.94</td>\n",
       "      <td>-0.31072</td>\n",
       "      <td>-0.24339</td>\n",
       "      <td>34.58</td>\n",
       "      <td>-1</td>\n",
       "    </tr>\n",
       "    <tr>\n",
       "      <th>219</th>\n",
       "      <td>GSS</td>\n",
       "      <td>Basic Materials</td>\n",
       "      <td>-16.32</td>\n",
       "      <td>4.33</td>\n",
       "      <td>5.68909</td>\n",
       "      <td>362.66699</td>\n",
       "      <td>-21.05</td>\n",
       "      <td>-1</td>\n",
       "    </tr>\n",
       "    <tr>\n",
       "      <th>242</th>\n",
       "      <td>IDXX</td>\n",
       "      <td>Medical</td>\n",
       "      <td>25.28</td>\n",
       "      <td>10.70</td>\n",
       "      <td>21.13100</td>\n",
       "      <td>50.57500</td>\n",
       "      <td>-9.47</td>\n",
       "      <td>-1</td>\n",
       "    </tr>\n",
       "    <tr>\n",
       "      <th>264</th>\n",
       "      <td>JD</td>\n",
       "      <td>Retail-Wholesale</td>\n",
       "      <td>185.57</td>\n",
       "      <td>28.84</td>\n",
       "      <td>0.94433</td>\n",
       "      <td>2.08879</td>\n",
       "      <td>-13.56</td>\n",
       "      <td>-1</td>\n",
       "    </tr>\n",
       "    <tr>\n",
       "      <th>268</th>\n",
       "      <td>JENGQ</td>\n",
       "      <td>Utilities</td>\n",
       "      <td>-22.68</td>\n",
       "      <td>-8.88</td>\n",
       "      <td>9.69779</td>\n",
       "      <td>43.64599</td>\n",
       "      <td>-81.11</td>\n",
       "      <td>-1</td>\n",
       "    </tr>\n",
       "    <tr>\n",
       "      <th>343</th>\n",
       "      <td>FIZZ</td>\n",
       "      <td>Consumer Staples</td>\n",
       "      <td>15.03</td>\n",
       "      <td>7.98</td>\n",
       "      <td>28.18300</td>\n",
       "      <td>41.16099</td>\n",
       "      <td>5.52</td>\n",
       "      <td>-1</td>\n",
       "    </tr>\n",
       "    <tr>\n",
       "      <th>352</th>\n",
       "      <td>UEPS</td>\n",
       "      <td>Industrial Products</td>\n",
       "      <td>-47.97</td>\n",
       "      <td>-24.43</td>\n",
       "      <td>-5.26110</td>\n",
       "      <td>-9.53430</td>\n",
       "      <td>11.20</td>\n",
       "      <td>-1</td>\n",
       "    </tr>\n",
       "    <tr>\n",
       "      <th>404</th>\n",
       "      <td>QDEL</td>\n",
       "      <td>Medical</td>\n",
       "      <td>194.96</td>\n",
       "      <td>48.13</td>\n",
       "      <td>11.59399</td>\n",
       "      <td>18.38999</td>\n",
       "      <td>-32.22</td>\n",
       "      <td>-1</td>\n",
       "    </tr>\n",
       "    <tr>\n",
       "      <th>419</th>\n",
       "      <td>RGS</td>\n",
       "      <td>Retail-Wholesale</td>\n",
       "      <td>141.04</td>\n",
       "      <td>-23.02</td>\n",
       "      <td>1.71780</td>\n",
       "      <td>2.64790</td>\n",
       "      <td>31.80</td>\n",
       "      <td>-1</td>\n",
       "    </tr>\n",
       "    <tr>\n",
       "      <th>446</th>\n",
       "      <td>SKY</td>\n",
       "      <td>Construction</td>\n",
       "      <td>70.80</td>\n",
       "      <td>69.95</td>\n",
       "      <td>4.90969</td>\n",
       "      <td>7.50159</td>\n",
       "      <td>40.96</td>\n",
       "      <td>-1</td>\n",
       "    </tr>\n",
       "    <tr>\n",
       "      <th>453</th>\n",
       "      <td>SBLK</td>\n",
       "      <td>Transportation</td>\n",
       "      <td>-49.56</td>\n",
       "      <td>40.01</td>\n",
       "      <td>-0.81481</td>\n",
       "      <td>-0.95315</td>\n",
       "      <td>48.33</td>\n",
       "      <td>-1</td>\n",
       "    </tr>\n",
       "    <tr>\n",
       "      <th>456</th>\n",
       "      <td>SSYS</td>\n",
       "      <td>Computer and Technology</td>\n",
       "      <td>1736.95</td>\n",
       "      <td>-4.07</td>\n",
       "      <td>-0.07682</td>\n",
       "      <td>-0.09751</td>\n",
       "      <td>13.18</td>\n",
       "      <td>-1</td>\n",
       "    </tr>\n",
       "    <tr>\n",
       "      <th>467</th>\n",
       "      <td>TAL</td>\n",
       "      <td>Consumer Discretionary</td>\n",
       "      <td>-16.86</td>\n",
       "      <td>49.31</td>\n",
       "      <td>5.61149</td>\n",
       "      <td>9.96409</td>\n",
       "      <td>-29.40</td>\n",
       "      <td>-1</td>\n",
       "    </tr>\n",
       "    <tr>\n",
       "      <th>508</th>\n",
       "      <td>TREX</td>\n",
       "      <td>Construction</td>\n",
       "      <td>27.85</td>\n",
       "      <td>15.19</td>\n",
       "      <td>29.02000</td>\n",
       "      <td>46.19599</td>\n",
       "      <td>4.36</td>\n",
       "      <td>-1</td>\n",
       "    </tr>\n",
       "    <tr>\n",
       "      <th>514</th>\n",
       "      <td>TUP</td>\n",
       "      <td>Consumer Staples</td>\n",
       "      <td>-26.95</td>\n",
       "      <td>-6.85</td>\n",
       "      <td>12.13700</td>\n",
       "      <td>54.44200</td>\n",
       "      <td>-25.15</td>\n",
       "      <td>-1</td>\n",
       "    </tr>\n",
       "    <tr>\n",
       "      <th>529</th>\n",
       "      <td>UNFI</td>\n",
       "      <td>Consumer Staples</td>\n",
       "      <td>0.28</td>\n",
       "      <td>35.39</td>\n",
       "      <td>3.42309</td>\n",
       "      <td>5.09270</td>\n",
       "      <td>109.59</td>\n",
       "      <td>-1</td>\n",
       "    </tr>\n",
       "    <tr>\n",
       "      <th>546</th>\n",
       "      <td>VRTX</td>\n",
       "      <td>Medical</td>\n",
       "      <td>162.16</td>\n",
       "      <td>35.76</td>\n",
       "      <td>10.60299</td>\n",
       "      <td>13.72000</td>\n",
       "      <td>-16.08</td>\n",
       "      <td>-1</td>\n",
       "    </tr>\n",
       "    <tr>\n",
       "      <th>567</th>\n",
       "      <td>ZYXI</td>\n",
       "      <td>Medical</td>\n",
       "      <td>49.71</td>\n",
       "      <td>50.56</td>\n",
       "      <td>50.54000</td>\n",
       "      <td>143.71000</td>\n",
       "      <td>5.25</td>\n",
       "      <td>-1</td>\n",
       "    </tr>\n",
       "  </tbody>\n",
       "</table>\n",
       "</div>"
      ],
      "text/plain": [
       "    Ticker                   Sector  5 Yr. Hist. EPS Growth  \\\n",
       "3     ACMR      Industrial Products                   68.85   \n",
       "18    ALGN                  Medical                   63.92   \n",
       "19     ATI          Basic Materials                  758.28   \n",
       "57    BNED   Consumer Discretionary                   10.63   \n",
       "138   CORT                  Medical                  112.71   \n",
       "142   CROX   Consumer Discretionary                  333.50   \n",
       "184   EXEL                  Medical                   46.26   \n",
       "185   EXPR         Retail-Wholesale                  -55.29   \n",
       "198   FORM  Computer and Technology                  297.71   \n",
       "207    GME         Retail-Wholesale                  -33.31   \n",
       "217    GOL           Transportation                    8.05   \n",
       "218   GOGL           Transportation                  -68.72   \n",
       "219    GSS          Basic Materials                  -16.32   \n",
       "242   IDXX                  Medical                   25.28   \n",
       "264     JD         Retail-Wholesale                  185.57   \n",
       "268  JENGQ                Utilities                  -22.68   \n",
       "343   FIZZ         Consumer Staples                   15.03   \n",
       "352   UEPS      Industrial Products                  -47.97   \n",
       "404   QDEL                  Medical                  194.96   \n",
       "419    RGS         Retail-Wholesale                  141.04   \n",
       "446    SKY             Construction                   70.80   \n",
       "453   SBLK           Transportation                  -49.56   \n",
       "456   SSYS  Computer and Technology                 1736.95   \n",
       "467    TAL   Consumer Discretionary                  -16.86   \n",
       "508   TREX             Construction                   27.85   \n",
       "514    TUP         Consumer Staples                  -26.95   \n",
       "529   UNFI         Consumer Staples                    0.28   \n",
       "546   VRTX                  Medical                  162.16   \n",
       "567   ZYXI                  Medical                   49.71   \n",
       "\n",
       "     5 Yr Historical Sales Growth  ROA (5 Yr Avg)  ROI (5 Yr Avg)  \\\n",
       "3                           56.53         9.88389        16.90999   \n",
       "18                          25.56        25.03899        38.16299   \n",
       "19                           3.79         1.11800         1.69700   \n",
       "57                          -2.29        -3.80030        -8.25431   \n",
       "138                         50.75        25.73399        32.15599   \n",
       "142                          4.62         7.15990        13.46399   \n",
       "184                         77.38        15.93000        24.40699   \n",
       "185                         -9.00         0.29025        -7.22320   \n",
       "198                         17.22         8.20300         9.94069   \n",
       "207                        -11.15         4.25939         5.07469   \n",
       "217                         -4.82        -0.72062       -40.27800   \n",
       "218                         30.94        -0.31072        -0.24339   \n",
       "219                          4.33         5.68909       362.66699   \n",
       "242                         10.70        21.13100        50.57500   \n",
       "264                         28.84         0.94433         2.08879   \n",
       "268                         -8.88         9.69779        43.64599   \n",
       "343                          7.98        28.18300        41.16099   \n",
       "352                        -24.43        -5.26110        -9.53430   \n",
       "404                         48.13        11.59399        18.38999   \n",
       "419                        -23.02         1.71780         2.64790   \n",
       "446                         69.95         4.90969         7.50159   \n",
       "453                         40.01        -0.81481        -0.95315   \n",
       "456                         -4.07        -0.07682        -0.09751   \n",
       "467                         49.31         5.61149         9.96409   \n",
       "508                         15.19        29.02000        46.19599   \n",
       "514                         -6.85        12.13700        54.44200   \n",
       "529                         35.39         3.42309         5.09270   \n",
       "546                         35.76        10.60299        13.72000   \n",
       "567                         50.56        50.54000       143.71000   \n",
       "\n",
       "     Relative Price Change  iso  \n",
       "3                     1.61   -1  \n",
       "18                   -5.56   -1  \n",
       "19                   23.41   -1  \n",
       "57                   63.42   -1  \n",
       "138                 -15.01   -1  \n",
       "142                  17.77   -1  \n",
       "184                   7.76   -1  \n",
       "185                 322.08   -1  \n",
       "198                   9.45   -1  \n",
       "207                 813.99   -1  \n",
       "217                 -24.87   -1  \n",
       "218                  34.58   -1  \n",
       "219                 -21.05   -1  \n",
       "242                  -9.47   -1  \n",
       "264                 -13.56   -1  \n",
       "268                 -81.11   -1  \n",
       "343                   5.52   -1  \n",
       "352                  11.20   -1  \n",
       "404                 -32.22   -1  \n",
       "419                  31.80   -1  \n",
       "446                  40.96   -1  \n",
       "453                  48.33   -1  \n",
       "456                  13.18   -1  \n",
       "467                 -29.40   -1  \n",
       "508                   4.36   -1  \n",
       "514                 -25.15   -1  \n",
       "529                 109.59   -1  \n",
       "546                 -16.08   -1  \n",
       "567                   5.25   -1  "
      ]
     },
     "execution_count": 144,
     "metadata": {},
     "output_type": "execute_result"
    }
   ],
   "source": [
    "outliers"
   ]
  },
  {
   "cell_type": "code",
   "execution_count": 145,
   "id": "hearing-registrar",
   "metadata": {},
   "outputs": [
    {
     "data": {
      "text/plain": [
       "count    543.000000\n",
       "mean      12.966777\n",
       "std       24.576435\n",
       "min      -37.060000\n",
       "25%       -3.865000\n",
       "50%        8.480000\n",
       "75%       24.610000\n",
       "max      126.470000\n",
       "Name: Relative Price Change, dtype: float64"
      ]
     },
     "execution_count": 145,
     "metadata": {},
     "output_type": "execute_result"
    }
   ],
   "source": [
    "df2_noOutliers['Relative Price Change'].describe()"
   ]
  },
  {
   "cell_type": "markdown",
   "id": "alpha-editing",
   "metadata": {},
   "source": [
    "Not surprisingly, GameStop (GME) appears as an outlier above. \n",
    "\n",
    "To build our response variable, we create two bins for relative price change: everything above 1 and everything below 1 indicating performing better or worse than the S&P YTD."
   ]
  },
  {
   "cell_type": "code",
   "execution_count": 146,
   "id": "fifth-gender",
   "metadata": {},
   "outputs": [],
   "source": [
    "bins = [-100,1,200]\n",
    "df2_noOutliers['binned'] = pd.cut(df2_noOutliers['Relative Price Change'], bins)"
   ]
  },
  {
   "cell_type": "code",
   "execution_count": 147,
   "id": "offshore-grade",
   "metadata": {},
   "outputs": [
    {
     "data": {
      "text/plain": [
       "(1, 200]     358\n",
       "(-100, 1]    185\n",
       "Name: binned, dtype: int64"
      ]
     },
     "execution_count": 147,
     "metadata": {},
     "output_type": "execute_result"
    }
   ],
   "source": [
    "df2_noOutliers['binned'].value_counts()"
   ]
  },
  {
   "cell_type": "markdown",
   "id": "painted-atlas",
   "metadata": {},
   "source": [
    "Factorize the binned variable to 1 or 0 corresponding to invest or not invest respectively. Then we remove unnecessary columns."
   ]
  },
  {
   "cell_type": "code",
   "execution_count": 148,
   "id": "greatest-feeding",
   "metadata": {},
   "outputs": [],
   "source": [
    "invest = pd.factorize(df2_noOutliers['binned'])"
   ]
  },
  {
   "cell_type": "code",
   "execution_count": 149,
   "id": "satisfactory-giant",
   "metadata": {},
   "outputs": [],
   "source": [
    "df2_noOutliers['invest'] = invest[0].tolist()"
   ]
  },
  {
   "cell_type": "code",
   "execution_count": 150,
   "id": "thirty-context",
   "metadata": {},
   "outputs": [],
   "source": [
    "df3 = df2_noOutliers.drop(['Ticker','iso','binned','Relative Price Change'],axis=1)"
   ]
  },
  {
   "cell_type": "markdown",
   "id": "hired-agent",
   "metadata": {},
   "source": [
    "Shuffle rows."
   ]
  },
  {
   "cell_type": "code",
   "execution_count": 151,
   "id": "received-briefs",
   "metadata": {},
   "outputs": [],
   "source": [
    "df3 = df3.sample(frac=1)"
   ]
  },
  {
   "cell_type": "code",
   "execution_count": 152,
   "id": "neural-threat",
   "metadata": {},
   "outputs": [],
   "source": [
    "def onehot_combine(data,column):\n",
    "    \n",
    "    \"\"\"Function to one hot encode categorical feature\n",
    "       and put back in place in the data frame.\"\"\"\n",
    "    \n",
    "    one_hot = pd.get_dummies(data[[column]])\n",
    "    data = data.drop([column],axis=1)\n",
    "    res = pd.concat([data,one_hot],axis=1)\n",
    "    return(res)  "
   ]
  },
  {
   "cell_type": "markdown",
   "id": "seeing-priority",
   "metadata": {},
   "source": [
    "Will use one hot encoder from sklearn later."
   ]
  },
  {
   "cell_type": "code",
   "execution_count": 153,
   "id": "tutorial-approval",
   "metadata": {},
   "outputs": [
    {
     "data": {
      "text/plain": [
       "OneHotEncoder()"
      ]
     },
     "execution_count": 153,
     "metadata": {},
     "output_type": "execute_result"
    }
   ],
   "source": [
    "from sklearn.preprocessing import OneHotEncoder\n",
    "\n",
    "enc = OneHotEncoder()\n",
    "enc.fit(df3[['Sector']])"
   ]
  },
  {
   "cell_type": "code",
   "execution_count": 154,
   "id": "clear-lying",
   "metadata": {
    "scrolled": true
   },
   "outputs": [],
   "source": [
    "df3_final = onehot_combine(df3,column='Sector')"
   ]
  },
  {
   "cell_type": "code",
   "execution_count": 155,
   "id": "touched-place",
   "metadata": {},
   "outputs": [],
   "source": [
    "X = df3_final.loc[:, df3_final.columns != 'invest']\n",
    "y = df3_final.loc[:, 'invest']"
   ]
  },
  {
   "cell_type": "code",
   "execution_count": 156,
   "id": "hydraulic-thickness",
   "metadata": {},
   "outputs": [
    {
     "data": {
      "text/plain": [
       "5 Yr. Hist. EPS Growth            float64\n",
       "5 Yr Historical Sales Growth      float64\n",
       "ROA (5 Yr Avg)                    float64\n",
       "ROI (5 Yr Avg)                    float64\n",
       "Sector_Aerospace                    uint8\n",
       "Sector_Auto-Tires-Trucks            uint8\n",
       "Sector_Basic Materials              uint8\n",
       "Sector_Business Services            uint8\n",
       "Sector_Computer and Technology      uint8\n",
       "Sector_Conglomerates                uint8\n",
       "Sector_Construction                 uint8\n",
       "Sector_Consumer Discretionary       uint8\n",
       "Sector_Consumer Staples             uint8\n",
       "Sector_Industrial Products          uint8\n",
       "Sector_Medical                      uint8\n",
       "Sector_Oils-Energy                  uint8\n",
       "Sector_Retail-Wholesale             uint8\n",
       "Sector_Transportation               uint8\n",
       "Sector_Utilities                    uint8\n",
       "dtype: object"
      ]
     },
     "execution_count": 156,
     "metadata": {},
     "output_type": "execute_result"
    }
   ],
   "source": [
    "X.dtypes"
   ]
  },
  {
   "cell_type": "markdown",
   "id": "identical-civilization",
   "metadata": {},
   "source": [
    "Separate train and test. Then extract numerical and categorical columns to perform standardization on numerical columns only."
   ]
  },
  {
   "cell_type": "code",
   "execution_count": 157,
   "id": "dental-royalty",
   "metadata": {},
   "outputs": [],
   "source": [
    "X_train, X_test, y_train, y_test = train_test_split(X, y, test_size=0.33, random_state=42,stratify=y)"
   ]
  },
  {
   "cell_type": "code",
   "execution_count": 158,
   "id": "adjusted-toyota",
   "metadata": {},
   "outputs": [],
   "source": [
    "num_cols = df3_final.columns[df3_final.dtypes.apply(lambda f: np.issubdtype(f, np.float64))]"
   ]
  },
  {
   "cell_type": "code",
   "execution_count": 159,
   "id": "hydraulic-northwest",
   "metadata": {},
   "outputs": [],
   "source": [
    "cat_cols = df3_final.columns[df3_final.dtypes.apply(lambda f: np.issubdtype(f, np.uint8))]"
   ]
  },
  {
   "cell_type": "code",
   "execution_count": 160,
   "id": "suitable-stadium",
   "metadata": {},
   "outputs": [],
   "source": [
    "sc = StandardScaler()\n",
    "X_train_num = sc.fit_transform(X_train[num_cols])\n",
    "X_test_num = sc.transform(X_test[num_cols])\n",
    "X_train_cat = X_train[cat_cols].values\n",
    "X_test_cat = X_test[cat_cols].values"
   ]
  },
  {
   "cell_type": "markdown",
   "id": "residential-bride",
   "metadata": {},
   "source": [
    "Merge transformed numerical variables to categorical."
   ]
  },
  {
   "cell_type": "code",
   "execution_count": 161,
   "id": "photographic-creation",
   "metadata": {},
   "outputs": [],
   "source": [
    "X_train = np.hstack((X_train_num, X_train_cat))\n",
    "X_test = np.hstack((X_test_num,X_test_cat))"
   ]
  },
  {
   "cell_type": "markdown",
   "id": "experienced-reaction",
   "metadata": {},
   "source": [
    "Build model and train using cross val score. We focus on precision as false positives can lead to investments that lose money."
   ]
  },
  {
   "cell_type": "code",
   "execution_count": 181,
   "id": "gothic-mapping",
   "metadata": {},
   "outputs": [],
   "source": [
    "from sklearn.ensemble import RandomForestClassifier\n",
    "from sklearn.metrics import accuracy_score, confusion_matrix, recall_score, roc_auc_score, precision_score\n",
    "\n",
    "rf = RandomForestClassifier(n_estimators=200,max_depth=3,min_samples_leaf = 20,random_state=42,class_weight = 'balanced_subsample')\n",
    "\n",
    "clf = rf"
   ]
  },
  {
   "cell_type": "code",
   "execution_count": 182,
   "id": "animated-opera",
   "metadata": {},
   "outputs": [
    {
     "data": {
      "text/plain": [
       "array([0.71428571, 0.69879518, 0.671875  ])"
      ]
     },
     "execution_count": 182,
     "metadata": {},
     "output_type": "execute_result"
    }
   ],
   "source": [
    "cross_val_score(clf,X_train,y_train,cv=3,scoring='precision')"
   ]
  },
  {
   "cell_type": "code",
   "execution_count": 183,
   "id": "civil-profit",
   "metadata": {},
   "outputs": [],
   "source": [
    "clf.fit(X_train, y_train)\n",
    "preds = np.where(clf.predict_proba(X_test)[:,1]>.5,1,0)"
   ]
  },
  {
   "cell_type": "code",
   "execution_count": 184,
   "id": "charitable-hybrid",
   "metadata": {},
   "outputs": [
    {
     "data": {
      "text/html": [
       "<div>\n",
       "<style scoped>\n",
       "    .dataframe tbody tr th:only-of-type {\n",
       "        vertical-align: middle;\n",
       "    }\n",
       "\n",
       "    .dataframe tbody tr th {\n",
       "        vertical-align: top;\n",
       "    }\n",
       "\n",
       "    .dataframe thead th {\n",
       "        text-align: right;\n",
       "    }\n",
       "</style>\n",
       "<table border=\"1\" class=\"dataframe\">\n",
       "  <thead>\n",
       "    <tr style=\"text-align: right;\">\n",
       "      <th></th>\n",
       "      <th>0</th>\n",
       "    </tr>\n",
       "  </thead>\n",
       "  <tbody>\n",
       "    <tr>\n",
       "      <th>accuracy</th>\n",
       "      <td>0.616667</td>\n",
       "    </tr>\n",
       "    <tr>\n",
       "      <th>recall</th>\n",
       "      <td>0.689076</td>\n",
       "    </tr>\n",
       "    <tr>\n",
       "      <th>precision</th>\n",
       "      <td>0.719298</td>\n",
       "    </tr>\n",
       "    <tr>\n",
       "      <th>roc_auc_score</th>\n",
       "      <td>0.582243</td>\n",
       "    </tr>\n",
       "  </tbody>\n",
       "</table>\n",
       "</div>"
      ],
      "text/plain": [
       "                      0\n",
       "accuracy       0.616667\n",
       "recall         0.689076\n",
       "precision      0.719298\n",
       "roc_auc_score  0.582243"
      ]
     },
     "execution_count": 184,
     "metadata": {},
     "output_type": "execute_result"
    }
   ],
   "source": [
    "pd.DataFrame(data=[accuracy_score(y_test, preds), recall_score(y_test, preds),\n",
    "                   precision_score(y_test, preds), roc_auc_score(y_test, preds)], \n",
    "             index=[\"accuracy\", \"recall\", \"precision\", \"roc_auc_score\"])"
   ]
  },
  {
   "cell_type": "code",
   "execution_count": 185,
   "id": "laden-demonstration",
   "metadata": {},
   "outputs": [],
   "source": [
    "from sklearn.metrics import confusion_matrix"
   ]
  },
  {
   "cell_type": "code",
   "execution_count": 186,
   "id": "necessary-bandwidth",
   "metadata": {},
   "outputs": [],
   "source": [
    "cf = confusion_matrix(np.array(y_test), preds)"
   ]
  },
  {
   "cell_type": "code",
   "execution_count": 187,
   "id": "mediterranean-thermal",
   "metadata": {},
   "outputs": [
    {
     "data": {
      "text/plain": [
       "array([[29, 32],\n",
       "       [37, 82]])"
      ]
     },
     "execution_count": 187,
     "metadata": {},
     "output_type": "execute_result"
    }
   ],
   "source": [
    "cf"
   ]
  },
  {
   "cell_type": "markdown",
   "id": "fundamental-border",
   "metadata": {},
   "source": [
    "We now train on the full data."
   ]
  },
  {
   "cell_type": "code",
   "execution_count": 188,
   "id": "aware-circus",
   "metadata": {},
   "outputs": [],
   "source": [
    "num_cols = df3_final.columns[df3_final.dtypes.apply(lambda f: np.issubdtype(f, np.float64))]\n",
    "\n",
    "cat_cols = df3_final.columns[df3_final.dtypes.apply(lambda f: np.issubdtype(f, np.uint8))]\n",
    "\n",
    "sc = StandardScaler()\n",
    "X_num = sc.fit_transform(X[num_cols])\n",
    "X_cat = X[cat_cols].values\n"
   ]
  },
  {
   "cell_type": "code",
   "execution_count": 189,
   "id": "adolescent-forest",
   "metadata": {},
   "outputs": [],
   "source": [
    "X = np.hstack((X_num, X_cat))"
   ]
  },
  {
   "cell_type": "code",
   "execution_count": 190,
   "id": "careful-transition",
   "metadata": {},
   "outputs": [
    {
     "data": {
      "text/plain": [
       "RandomForestClassifier(class_weight='balanced_subsample', max_depth=3,\n",
       "                       min_samples_leaf=20, n_estimators=200, random_state=42)"
      ]
     },
     "execution_count": 190,
     "metadata": {},
     "output_type": "execute_result"
    }
   ],
   "source": [
    "clf.fit(X,y)"
   ]
  },
  {
   "cell_type": "code",
   "execution_count": 191,
   "id": "listed-turner",
   "metadata": {},
   "outputs": [],
   "source": [
    "# import pickle"
   ]
  },
  {
   "cell_type": "code",
   "execution_count": 192,
   "id": "stunning-candle",
   "metadata": {},
   "outputs": [],
   "source": [
    "# data = {'model':clf,'num_scale':sc,'cat_enc':enc}"
   ]
  },
  {
   "cell_type": "code",
   "execution_count": 193,
   "id": "republican-substitute",
   "metadata": {},
   "outputs": [],
   "source": [
    "# with open('saved_steps.pkl','wb') as file:\n",
    "#     pickle.dump(data,file)"
   ]
  },
  {
   "cell_type": "code",
   "execution_count": 194,
   "id": "backed-warrior",
   "metadata": {},
   "outputs": [],
   "source": [
    "# with open('saved_steps.pkl','rb') as file:\n",
    "#     data = pickle.load(file)"
   ]
  },
  {
   "cell_type": "code",
   "execution_count": 195,
   "id": "hispanic-johnson",
   "metadata": {},
   "outputs": [],
   "source": [
    "# rf = data['model']\n",
    "# sc = data['num_scale']\n",
    "# enc = data['cat_enc']"
   ]
  },
  {
   "cell_type": "code",
   "execution_count": null,
   "id": "sporting-wright",
   "metadata": {},
   "outputs": [],
   "source": []
  }
 ],
 "metadata": {
  "kernelspec": {
   "display_name": "Python 3",
   "language": "python",
   "name": "python3"
  },
  "language_info": {
   "codemirror_mode": {
    "name": "ipython",
    "version": 3
   },
   "file_extension": ".py",
   "mimetype": "text/x-python",
   "name": "python",
   "nbconvert_exporter": "python",
   "pygments_lexer": "ipython3",
   "version": "3.8.8"
  }
 },
 "nbformat": 4,
 "nbformat_minor": 5
}
